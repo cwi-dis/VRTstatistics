{
 "cells": [
  {
   "cell_type": "code",
   "execution_count": 59,
   "id": "fiscal-destruction",
   "metadata": {},
   "outputs": [],
   "source": [
    "from VRTstatistics.datastore import DataStore"
   ]
  },
  {
   "cell_type": "code",
   "execution_count": 60,
   "id": "51b03160",
   "metadata": {},
   "outputs": [],
   "source": [
    "import pandas as pd"
   ]
  },
  {
   "cell_type": "code",
   "execution_count": 61,
   "id": "98945d5c",
   "metadata": {},
   "outputs": [],
   "source": [
    "import numpy as np"
   ]
  },
  {
   "cell_type": "code",
   "execution_count": 62,
   "id": "insured-progressive",
   "metadata": {},
   "outputs": [],
   "source": [
    "ds = DataStore(\"combined.json\")"
   ]
  },
  {
   "cell_type": "code",
   "execution_count": 63,
   "id": "bed6f297",
   "metadata": {},
   "outputs": [],
   "source": [
    "ds.load()"
   ]
  },
  {
   "cell_type": "code",
   "execution_count": 64,
   "id": "bd4f910b",
   "metadata": {},
   "outputs": [],
   "source": [
    "pointcounts = ds.get_dataframe(predicate='\"receiver.pc.renderer\" in component_role', columns=[\"sessiontime\", \"component_role=points_per_cloud\"])"
   ]
  },
  {
   "cell_type": "code",
   "execution_count": 65,
   "id": "c0a70fe4",
   "metadata": {},
   "outputs": [
    {
     "data": {
      "text/html": [
       "<div>\n",
       "<style scoped>\n",
       "    .dataframe tbody tr th:only-of-type {\n",
       "        vertical-align: middle;\n",
       "    }\n",
       "\n",
       "    .dataframe tbody tr th {\n",
       "        vertical-align: top;\n",
       "    }\n",
       "\n",
       "    .dataframe thead th {\n",
       "        text-align: right;\n",
       "    }\n",
       "</style>\n",
       "<table border=\"1\" class=\"dataframe\">\n",
       "  <thead>\n",
       "    <tr style=\"text-align: right;\">\n",
       "      <th></th>\n",
       "      <th>sessiontime</th>\n",
       "      <th>receiver.pc.renderer.0</th>\n",
       "      <th>receiver.pc.renderer.1</th>\n",
       "      <th>receiver.pc.renderer.2</th>\n",
       "      <th>receiver.pc.renderer.3</th>\n",
       "    </tr>\n",
       "  </thead>\n",
       "  <tbody>\n",
       "    <tr>\n",
       "      <th>0</th>\n",
       "      <td>1.239</td>\n",
       "      <td>5549.0</td>\n",
       "      <td>NaN</td>\n",
       "      <td>NaN</td>\n",
       "      <td>NaN</td>\n",
       "    </tr>\n",
       "    <tr>\n",
       "      <th>1</th>\n",
       "      <td>1.239</td>\n",
       "      <td>NaN</td>\n",
       "      <td>46643.0</td>\n",
       "      <td>NaN</td>\n",
       "      <td>NaN</td>\n",
       "    </tr>\n",
       "    <tr>\n",
       "      <th>2</th>\n",
       "      <td>1.239</td>\n",
       "      <td>NaN</td>\n",
       "      <td>NaN</td>\n",
       "      <td>22178.0</td>\n",
       "      <td>NaN</td>\n",
       "    </tr>\n",
       "    <tr>\n",
       "      <th>3</th>\n",
       "      <td>1.240</td>\n",
       "      <td>NaN</td>\n",
       "      <td>NaN</td>\n",
       "      <td>NaN</td>\n",
       "      <td>65434.0</td>\n",
       "    </tr>\n",
       "    <tr>\n",
       "      <th>4</th>\n",
       "      <td>2.255</td>\n",
       "      <td>4454.0</td>\n",
       "      <td>NaN</td>\n",
       "      <td>NaN</td>\n",
       "      <td>NaN</td>\n",
       "    </tr>\n",
       "    <tr>\n",
       "      <th>...</th>\n",
       "      <td>...</td>\n",
       "      <td>...</td>\n",
       "      <td>...</td>\n",
       "      <td>...</td>\n",
       "      <td>...</td>\n",
       "    </tr>\n",
       "    <tr>\n",
       "      <th>223</th>\n",
       "      <td>57.690</td>\n",
       "      <td>NaN</td>\n",
       "      <td>NaN</td>\n",
       "      <td>NaN</td>\n",
       "      <td>62734.0</td>\n",
       "    </tr>\n",
       "    <tr>\n",
       "      <th>224</th>\n",
       "      <td>58.622</td>\n",
       "      <td>NaN</td>\n",
       "      <td>40458.0</td>\n",
       "      <td>NaN</td>\n",
       "      <td>NaN</td>\n",
       "    </tr>\n",
       "    <tr>\n",
       "      <th>225</th>\n",
       "      <td>58.689</td>\n",
       "      <td>13895.0</td>\n",
       "      <td>NaN</td>\n",
       "      <td>NaN</td>\n",
       "      <td>NaN</td>\n",
       "    </tr>\n",
       "    <tr>\n",
       "      <th>226</th>\n",
       "      <td>58.690</td>\n",
       "      <td>NaN</td>\n",
       "      <td>NaN</td>\n",
       "      <td>NaN</td>\n",
       "      <td>62598.0</td>\n",
       "    </tr>\n",
       "    <tr>\n",
       "      <th>227</th>\n",
       "      <td>58.757</td>\n",
       "      <td>NaN</td>\n",
       "      <td>NaN</td>\n",
       "      <td>28064.0</td>\n",
       "      <td>NaN</td>\n",
       "    </tr>\n",
       "  </tbody>\n",
       "</table>\n",
       "<p>228 rows × 5 columns</p>\n",
       "</div>"
      ],
      "text/plain": [
       "     sessiontime  receiver.pc.renderer.0  receiver.pc.renderer.1  \\\n",
       "0          1.239                  5549.0                     NaN   \n",
       "1          1.239                     NaN                 46643.0   \n",
       "2          1.239                     NaN                     NaN   \n",
       "3          1.240                     NaN                     NaN   \n",
       "4          2.255                  4454.0                     NaN   \n",
       "..           ...                     ...                     ...   \n",
       "223       57.690                     NaN                     NaN   \n",
       "224       58.622                     NaN                 40458.0   \n",
       "225       58.689                 13895.0                     NaN   \n",
       "226       58.690                     NaN                     NaN   \n",
       "227       58.757                     NaN                     NaN   \n",
       "\n",
       "     receiver.pc.renderer.2  receiver.pc.renderer.3  \n",
       "0                       NaN                     NaN  \n",
       "1                       NaN                     NaN  \n",
       "2                   22178.0                     NaN  \n",
       "3                       NaN                 65434.0  \n",
       "4                       NaN                     NaN  \n",
       "..                      ...                     ...  \n",
       "223                     NaN                 62734.0  \n",
       "224                     NaN                     NaN  \n",
       "225                     NaN                     NaN  \n",
       "226                     NaN                 62598.0  \n",
       "227                 28064.0                     NaN  \n",
       "\n",
       "[228 rows x 5 columns]"
      ]
     },
     "execution_count": 65,
     "metadata": {},
     "output_type": "execute_result"
    }
   ],
   "source": [
    "pointcounts"
   ]
  },
  {
   "cell_type": "code",
   "execution_count": 66,
   "id": "5b4fef6d",
   "metadata": {},
   "outputs": [
    {
     "data": {
      "text/plain": [
       "228"
      ]
     },
     "execution_count": 66,
     "metadata": {},
     "output_type": "execute_result"
    }
   ],
   "source": [
    "len(pointcounts)"
   ]
  },
  {
   "cell_type": "code",
   "execution_count": 67,
   "id": "e16b4d2b",
   "metadata": {},
   "outputs": [],
   "source": [
    "ntiles = 4\n",
    "nbins = len(pointcounts)//ntiles\n",
    "nbins\n",
    "_, binbins = pd.cut(pointcounts[\"sessiontime\"], nbins, retbins=True, labels=False)"
   ]
  },
  {
   "cell_type": "code",
   "execution_count": 68,
   "id": "2aa8e31f",
   "metadata": {},
   "outputs": [
    {
     "data": {
      "text/plain": [
       "array([ 1.18,  2.25,  3.26,  4.27,  5.28,  6.28,  7.29,  8.3 ,  9.31,\n",
       "       10.32, 11.33, 12.34, 13.35, 14.36, 15.37, 16.38, 17.38, 18.39,\n",
       "       19.4 , 20.41, 21.42, 22.43, 23.44, 24.45, 25.46, 26.47, 27.48,\n",
       "       28.48, 29.49, 30.5 , 31.51, 32.52, 33.53, 34.54, 35.55, 36.56,\n",
       "       37.57, 38.58, 39.58, 40.59, 41.6 , 42.61, 43.62, 44.63, 45.64,\n",
       "       46.65, 47.66, 48.67, 49.68, 50.68, 51.69, 52.7 , 53.71, 54.72,\n",
       "       55.73, 56.74, 57.75, 58.76])"
      ]
     },
     "execution_count": 68,
     "metadata": {},
     "output_type": "execute_result"
    }
   ],
   "source": [
    "binbins = np.around(binbins, decimals=2)\n",
    "binbins"
   ]
  },
  {
   "cell_type": "code",
   "execution_count": 69,
   "id": "628f9e1a",
   "metadata": {},
   "outputs": [],
   "source": [
    "session_time_bins = pd.cut(pointcounts[\"sessiontime\"], nbins, labels=binbins[1:])"
   ]
  },
  {
   "cell_type": "code",
   "execution_count": 70,
   "id": "55a1fee0",
   "metadata": {},
   "outputs": [],
   "source": [
    "pointcounts[\"sessiontimeslot\"] = session_time_bins"
   ]
  },
  {
   "cell_type": "code",
   "execution_count": 71,
   "id": "4d1b2fc7",
   "metadata": {},
   "outputs": [
    {
     "name": "stderr",
     "output_type": "stream",
     "text": [
      "/Users/jack/src/dis-git/VRTstatistics/.venv/lib/python3.9/site-packages/IPython/lib/pretty.py:778: FutureWarning: Index.ravel returning ndarray is deprecated; in a future version this will return a view on self.\n",
      "  output = repr(obj)\n"
     ]
    },
    {
     "data": {
      "text/plain": [
       "0       2.25\n",
       "1       2.25\n",
       "2       2.25\n",
       "3       2.25\n",
       "4       3.26\n",
       "       ...  \n",
       "223    57.75\n",
       "224    58.76\n",
       "225    58.76\n",
       "226    58.76\n",
       "227    58.76\n",
       "Name: sessiontime, Length: 228, dtype: category\n",
       "Categories (57, float64): [2.25 < 3.26 < 4.27 < 5.28 ... 55.73 < 56.74 < 57.75 < 58.76]"
      ]
     },
     "execution_count": 71,
     "metadata": {},
     "output_type": "execute_result"
    }
   ],
   "source": [
    "session_time_bins"
   ]
  },
  {
   "cell_type": "code",
   "execution_count": 72,
   "id": "fc2e7b01",
   "metadata": {},
   "outputs": [
    {
     "data": {
      "text/plain": [
       "0       1.239\n",
       "1       1.239\n",
       "2       1.239\n",
       "3       1.240\n",
       "4       2.255\n",
       "        ...  \n",
       "223    57.690\n",
       "224    58.622\n",
       "225    58.689\n",
       "226    58.690\n",
       "227    58.757\n",
       "Name: sessiontime, Length: 228, dtype: float64"
      ]
     },
     "execution_count": 72,
     "metadata": {},
     "output_type": "execute_result"
    }
   ],
   "source": [
    "pointcounts[\"sessiontime\"]"
   ]
  },
  {
   "cell_type": "code",
   "execution_count": 73,
   "id": "2a41da69",
   "metadata": {},
   "outputs": [
    {
     "data": {
      "text/plain": [
       "array([ 2.25,  3.26,  4.27,  5.28,  6.28,  7.29,  8.3 ,  9.31, 10.32,\n",
       "       11.33, 12.34, 13.35, 14.36, 15.37, 16.38, 17.38, 18.39, 19.4 ,\n",
       "       20.41, 21.42, 22.43, 23.44, 24.45, 25.46, 26.47, 27.48, 28.48,\n",
       "       29.49, 30.5 , 31.51, 32.52, 33.53, 34.54, 35.55, 36.56, 37.57,\n",
       "       38.58, 39.58, 40.59, 41.6 , 42.61, 43.62, 44.63, 45.64, 46.65,\n",
       "       47.66, 48.67, 49.68, 50.68, 51.69, 52.7 , 53.71, 54.72, 55.73,\n",
       "       56.74, 57.75, 58.76])"
      ]
     },
     "execution_count": 73,
     "metadata": {},
     "output_type": "execute_result"
    }
   ],
   "source": [
    "binbins[1:]"
   ]
  },
  {
   "cell_type": "code",
   "execution_count": 74,
   "id": "d8f8e6a5",
   "metadata": {},
   "outputs": [
    {
     "data": {
      "text/html": [
       "<div>\n",
       "<style scoped>\n",
       "    .dataframe tbody tr th:only-of-type {\n",
       "        vertical-align: middle;\n",
       "    }\n",
       "\n",
       "    .dataframe tbody tr th {\n",
       "        vertical-align: top;\n",
       "    }\n",
       "\n",
       "    .dataframe thead th {\n",
       "        text-align: right;\n",
       "    }\n",
       "</style>\n",
       "<table border=\"1\" class=\"dataframe\">\n",
       "  <thead>\n",
       "    <tr style=\"text-align: right;\">\n",
       "      <th></th>\n",
       "      <th>sessiontime</th>\n",
       "      <th>receiver.pc.renderer.0</th>\n",
       "      <th>receiver.pc.renderer.1</th>\n",
       "      <th>receiver.pc.renderer.2</th>\n",
       "      <th>receiver.pc.renderer.3</th>\n",
       "      <th>sessiontimeslot</th>\n",
       "    </tr>\n",
       "  </thead>\n",
       "  <tbody>\n",
       "    <tr>\n",
       "      <th>0</th>\n",
       "      <td>1.239</td>\n",
       "      <td>5549.0</td>\n",
       "      <td>NaN</td>\n",
       "      <td>NaN</td>\n",
       "      <td>NaN</td>\n",
       "      <td>2.25</td>\n",
       "    </tr>\n",
       "    <tr>\n",
       "      <th>1</th>\n",
       "      <td>1.239</td>\n",
       "      <td>NaN</td>\n",
       "      <td>46643.0</td>\n",
       "      <td>NaN</td>\n",
       "      <td>NaN</td>\n",
       "      <td>2.25</td>\n",
       "    </tr>\n",
       "    <tr>\n",
       "      <th>2</th>\n",
       "      <td>1.239</td>\n",
       "      <td>NaN</td>\n",
       "      <td>NaN</td>\n",
       "      <td>22178.0</td>\n",
       "      <td>NaN</td>\n",
       "      <td>2.25</td>\n",
       "    </tr>\n",
       "    <tr>\n",
       "      <th>3</th>\n",
       "      <td>1.240</td>\n",
       "      <td>NaN</td>\n",
       "      <td>NaN</td>\n",
       "      <td>NaN</td>\n",
       "      <td>65434.0</td>\n",
       "      <td>2.25</td>\n",
       "    </tr>\n",
       "    <tr>\n",
       "      <th>4</th>\n",
       "      <td>2.255</td>\n",
       "      <td>4454.0</td>\n",
       "      <td>NaN</td>\n",
       "      <td>NaN</td>\n",
       "      <td>NaN</td>\n",
       "      <td>3.26</td>\n",
       "    </tr>\n",
       "    <tr>\n",
       "      <th>...</th>\n",
       "      <td>...</td>\n",
       "      <td>...</td>\n",
       "      <td>...</td>\n",
       "      <td>...</td>\n",
       "      <td>...</td>\n",
       "      <td>...</td>\n",
       "    </tr>\n",
       "    <tr>\n",
       "      <th>223</th>\n",
       "      <td>57.690</td>\n",
       "      <td>NaN</td>\n",
       "      <td>NaN</td>\n",
       "      <td>NaN</td>\n",
       "      <td>62734.0</td>\n",
       "      <td>57.75</td>\n",
       "    </tr>\n",
       "    <tr>\n",
       "      <th>224</th>\n",
       "      <td>58.622</td>\n",
       "      <td>NaN</td>\n",
       "      <td>40458.0</td>\n",
       "      <td>NaN</td>\n",
       "      <td>NaN</td>\n",
       "      <td>58.76</td>\n",
       "    </tr>\n",
       "    <tr>\n",
       "      <th>225</th>\n",
       "      <td>58.689</td>\n",
       "      <td>13895.0</td>\n",
       "      <td>NaN</td>\n",
       "      <td>NaN</td>\n",
       "      <td>NaN</td>\n",
       "      <td>58.76</td>\n",
       "    </tr>\n",
       "    <tr>\n",
       "      <th>226</th>\n",
       "      <td>58.690</td>\n",
       "      <td>NaN</td>\n",
       "      <td>NaN</td>\n",
       "      <td>NaN</td>\n",
       "      <td>62598.0</td>\n",
       "      <td>58.76</td>\n",
       "    </tr>\n",
       "    <tr>\n",
       "      <th>227</th>\n",
       "      <td>58.757</td>\n",
       "      <td>NaN</td>\n",
       "      <td>NaN</td>\n",
       "      <td>28064.0</td>\n",
       "      <td>NaN</td>\n",
       "      <td>58.76</td>\n",
       "    </tr>\n",
       "  </tbody>\n",
       "</table>\n",
       "<p>228 rows × 6 columns</p>\n",
       "</div>"
      ],
      "text/plain": [
       "     sessiontime  receiver.pc.renderer.0  receiver.pc.renderer.1  \\\n",
       "0          1.239                  5549.0                     NaN   \n",
       "1          1.239                     NaN                 46643.0   \n",
       "2          1.239                     NaN                     NaN   \n",
       "3          1.240                     NaN                     NaN   \n",
       "4          2.255                  4454.0                     NaN   \n",
       "..           ...                     ...                     ...   \n",
       "223       57.690                     NaN                     NaN   \n",
       "224       58.622                     NaN                 40458.0   \n",
       "225       58.689                 13895.0                     NaN   \n",
       "226       58.690                     NaN                     NaN   \n",
       "227       58.757                     NaN                     NaN   \n",
       "\n",
       "     receiver.pc.renderer.2  receiver.pc.renderer.3 sessiontimeslot  \n",
       "0                       NaN                     NaN            2.25  \n",
       "1                       NaN                     NaN            2.25  \n",
       "2                   22178.0                     NaN            2.25  \n",
       "3                       NaN                 65434.0            2.25  \n",
       "4                       NaN                     NaN            3.26  \n",
       "..                      ...                     ...             ...  \n",
       "223                     NaN                 62734.0           57.75  \n",
       "224                     NaN                     NaN           58.76  \n",
       "225                     NaN                     NaN           58.76  \n",
       "226                     NaN                 62598.0           58.76  \n",
       "227                 28064.0                     NaN           58.76  \n",
       "\n",
       "[228 rows x 6 columns]"
      ]
     },
     "execution_count": 74,
     "metadata": {},
     "output_type": "execute_result"
    }
   ],
   "source": [
    "pointcounts"
   ]
  },
  {
   "cell_type": "code",
   "execution_count": 75,
   "id": "c4ee2f63",
   "metadata": {},
   "outputs": [],
   "source": [
    "session_time_groups = pointcounts.groupby(\"sessiontimeslot\")"
   ]
  },
  {
   "cell_type": "code",
   "execution_count": 76,
   "id": "03981b69",
   "metadata": {},
   "outputs": [
    {
     "data": {
      "text/html": [
       "<div>\n",
       "<style scoped>\n",
       "    .dataframe tbody tr th:only-of-type {\n",
       "        vertical-align: middle;\n",
       "    }\n",
       "\n",
       "    .dataframe tbody tr th {\n",
       "        vertical-align: top;\n",
       "    }\n",
       "\n",
       "    .dataframe thead th {\n",
       "        text-align: right;\n",
       "    }\n",
       "</style>\n",
       "<table border=\"1\" class=\"dataframe\">\n",
       "  <thead>\n",
       "    <tr style=\"text-align: right;\">\n",
       "      <th></th>\n",
       "    </tr>\n",
       "  </thead>\n",
       "  <tbody>\n",
       "  </tbody>\n",
       "</table>\n",
       "</div>"
      ],
      "text/plain": [
       "Empty DataFrame\n",
       "Columns: []\n",
       "Index: []"
      ]
     },
     "execution_count": 76,
     "metadata": {},
     "output_type": "execute_result"
    }
   ],
   "source": [
    "def foo(g):\n",
    "    colnames = [\"receiver.pc.renderer.0\", \"receiver.pc.renderer.1\", \"receiver.pc.renderer.2\", \"receiver.pc.renderer.3\"]\n",
    "    g.assign(totalpointcount = g[colnames].sum(axis=1))\n",
    "\n",
    "session_time_groups.apply(foo)\n",
    "          "
   ]
  },
  {
   "cell_type": "code",
   "execution_count": 56,
   "id": "56003071",
   "metadata": {},
   "outputs": [
    {
     "data": {
      "text/html": [
       "<div>\n",
       "<style scoped>\n",
       "    .dataframe tbody tr th:only-of-type {\n",
       "        vertical-align: middle;\n",
       "    }\n",
       "\n",
       "    .dataframe tbody tr th {\n",
       "        vertical-align: top;\n",
       "    }\n",
       "\n",
       "    .dataframe thead th {\n",
       "        text-align: right;\n",
       "    }\n",
       "</style>\n",
       "<table border=\"1\" class=\"dataframe\">\n",
       "  <thead>\n",
       "    <tr style=\"text-align: right;\">\n",
       "      <th></th>\n",
       "    </tr>\n",
       "  </thead>\n",
       "  <tbody>\n",
       "  </tbody>\n",
       "</table>\n",
       "</div>"
      ],
      "text/plain": [
       "Empty DataFrame\n",
       "Columns: []\n",
       "Index: []"
      ]
     },
     "execution_count": 56,
     "metadata": {},
     "output_type": "execute_result"
    }
   ],
   "source": [
    "pc3"
   ]
  }
 ],
 "metadata": {
  "kernelspec": {
   "display_name": "Python 3 (ipykernel)",
   "language": "python",
   "name": "python3"
  },
  "language_info": {
   "codemirror_mode": {
    "name": "ipython",
    "version": 3
   },
   "file_extension": ".py",
   "mimetype": "text/x-python",
   "name": "python",
   "nbconvert_exporter": "python",
   "pygments_lexer": "ipython3",
   "version": "3.9.9"
  }
 },
 "nbformat": 4,
 "nbformat_minor": 5
}
